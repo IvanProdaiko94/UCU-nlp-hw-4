{
 "cells": [
  {
   "cell_type": "markdown",
   "metadata": {},
   "source": [
    "# Module 4. N-grams, traditional word vectors, and neural embeddings"
   ]
  },
  {
   "cell_type": "code",
   "execution_count": 2,
   "metadata": {},
   "outputs": [],
   "source": [
    "import os\n",
    "import re\n",
    "import gensim\n",
    "\n",
    "import numpy as np\n",
    "import pandas as pd\n",
    "# from langdetect import detect\n",
    "\n",
    "# import matplotlib.pyplot as plt\n",
    "\n",
    "# %matplotlib inline"
   ]
  },
  {
   "cell_type": "markdown",
   "metadata": {},
   "source": [
    "# Load the data"
   ]
  },
  {
   "cell_type": "code",
   "execution_count": 100,
   "metadata": {},
   "outputs": [],
   "source": [
    "def parse_content(txt):\n",
    "    obj = {\"id\": [], \"content\": []}\n",
    "    next_request = re.search(r\"\\d{7}\\n\", txt)\n",
    "    while next_request:\n",
    "        start = next_request.start()\n",
    "        id = txt[:7]\n",
    "        txt = txt[7:]\n",
    "        \n",
    "        next_request = re.search(r\"\\d{7}\\n\", txt)\n",
    "        if not next_request:\n",
    "            break\n",
    "            \n",
    "        start = next_request.start()\n",
    "            \n",
    "        request_content = txt[:start]\n",
    "        \n",
    "        obj[\"id\"].append(id)\n",
    "        obj[\"content\"].append(request_content)\n",
    "        \n",
    "        txt = txt[start:]\n",
    "    return obj\n",
    "    \n",
    "def read_requests(folder):\n",
    "    requests = {\"id\": [], \"content\": []}\n",
    "    for filename in os.listdir(folder):\n",
    "        path = os.path.join(folder, filename)\n",
    "        with open(path) as f:\n",
    "            file_content = f.read()\n",
    "            parsed_content = parse_content(file_content)\n",
    "            requests[\"id\"] += parsed_content[\"id\"]\n",
    "            requests[\"content\"] += parsed_content[\"content\"]\n",
    "    return pd.DataFrame.from_dict(requests)"
   ]
  },
  {
   "cell_type": "code",
   "execution_count": 101,
   "metadata": {},
   "outputs": [],
   "source": [
    "requests = read_requests('./1551')"
   ]
  },
  {
   "cell_type": "code",
   "execution_count": 102,
   "metadata": {},
   "outputs": [
    {
     "data": {
      "text/html": [
       "<div>\n",
       "<style scoped>\n",
       "    .dataframe tbody tr th:only-of-type {\n",
       "        vertical-align: middle;\n",
       "    }\n",
       "\n",
       "    .dataframe tbody tr th {\n",
       "        vertical-align: top;\n",
       "    }\n",
       "\n",
       "    .dataframe thead th {\n",
       "        text-align: right;\n",
       "    }\n",
       "</style>\n",
       "<table border=\"1\" class=\"dataframe\">\n",
       "  <thead>\n",
       "    <tr style=\"text-align: right;\">\n",
       "      <th></th>\n",
       "      <th>id</th>\n",
       "      <th>content</th>\n",
       "    </tr>\n",
       "  </thead>\n",
       "  <tbody>\n",
       "    <tr>\n",
       "      <th>0</th>\n",
       "      <td>3096223</td>\n",
       "      <td>\\nХочу Вас спитати, маю я право на субсидію чи...</td>\n",
       "    </tr>\n",
       "    <tr>\n",
       "      <th>1</th>\n",
       "      <td>3401866</td>\n",
       "      <td>\\nДобрый день, подскажите как оформить субсиди...</td>\n",
       "    </tr>\n",
       "    <tr>\n",
       "      <th>2</th>\n",
       "      <td>3382672</td>\n",
       "      <td>\\nПри подаче декларации и заявления на субсиди...</td>\n",
       "    </tr>\n",
       "    <tr>\n",
       "      <th>3</th>\n",
       "      <td>3354708</td>\n",
       "      <td>\\nПитання про надання субсидій. Чому ходять чу...</td>\n",
       "    </tr>\n",
       "    <tr>\n",
       "      <th>4</th>\n",
       "      <td>3350015</td>\n",
       "      <td>\\nЦього року я подала поштою необхідні докумен...</td>\n",
       "    </tr>\n",
       "  </tbody>\n",
       "</table>\n",
       "</div>"
      ],
      "text/plain": [
       "        id                                            content\n",
       "0  3096223  \\nХочу Вас спитати, маю я право на субсидію чи...\n",
       "1  3401866  \\nДобрый день, подскажите как оформить субсиди...\n",
       "2  3382672  \\nПри подаче декларации и заявления на субсиди...\n",
       "3  3354708  \\nПитання про надання субсидій. Чому ходять чу...\n",
       "4  3350015  \\nЦього року я подала поштою необхідні докумен..."
      ]
     },
     "execution_count": 102,
     "metadata": {},
     "output_type": "execute_result"
    }
   ],
   "source": [
    "requests.head()"
   ]
  },
  {
   "cell_type": "markdown",
   "metadata": {},
   "source": [
    "# Preprocessing"
   ]
  },
  {
   "cell_type": "code",
   "execution_count": null,
   "metadata": {},
   "outputs": [],
   "source": []
  },
  {
   "cell_type": "markdown",
   "metadata": {},
   "source": [
    "# KNN classifier"
   ]
  },
  {
   "cell_type": "code",
   "execution_count": null,
   "metadata": {},
   "outputs": [],
   "source": []
  },
  {
   "cell_type": "markdown",
   "metadata": {},
   "source": [
    "# Improvements:\n",
    "\n",
    "- Logistic Regression \n",
    "- SVM \n",
    "- Random Forest\n",
    "- TF-IDF\n",
    "- LDA"
   ]
  },
  {
   "cell_type": "code",
   "execution_count": null,
   "metadata": {},
   "outputs": [],
   "source": []
  },
  {
   "cell_type": "markdown",
   "metadata": {},
   "source": [
    "# NN, LSTM"
   ]
  },
  {
   "cell_type": "code",
   "execution_count": null,
   "metadata": {},
   "outputs": [],
   "source": []
  }
 ],
 "metadata": {
  "kernelspec": {
   "display_name": "Python 3",
   "language": "python",
   "name": "python3"
  },
  "language_info": {
   "codemirror_mode": {
    "name": "ipython",
    "version": 3
   },
   "file_extension": ".py",
   "mimetype": "text/x-python",
   "name": "python",
   "nbconvert_exporter": "python",
   "pygments_lexer": "ipython3",
   "version": "3.7.3"
  }
 },
 "nbformat": 4,
 "nbformat_minor": 2
}
